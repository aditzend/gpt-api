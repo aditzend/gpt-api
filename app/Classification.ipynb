{
 "cells": [
  {
   "cell_type": "code",
   "execution_count": 71,
   "id": "71f24622",
   "metadata": {},
   "outputs": [],
   "source": [
    "from dotenv import load_dotenv\n",
    "load_dotenv()\n",
    "openai.api_key = os.getenv(\"OPENAI_API_KEY\")\n",
    "sentiment_url = os.getenv(\"SENTIMENT_URL\")"
   ]
  },
  {
   "cell_type": "code",
   "execution_count": 78,
   "id": "8288ddca",
   "metadata": {},
   "outputs": [],
   "source": [
    "from langchain import PromptTemplate\n",
    "from langchain.llms import OpenAI\n",
    "import json\n",
    "\n",
    "classify_intent_extract_entities_template = PromptTemplate(\n",
    "    input_variables=[\"user_input\", \"intents\", \"entities\"],\n",
    "    template=\"\"\"\n",
    "    You are an intent and entity classification model.\n",
    "    Given this list of intents: {intents},\n",
    "    this list of entities {entities},\n",
    "    and this user input {user_input}, \n",
    "    predict the intent and entities of the user input.\n",
    "\n",
    "    Give the confidence level of each of your predictions. \n",
    "    Choose intents from the list of intents and only from the list of intents.\n",
    "    Choose entities from the list of entities and only from the list of entities.\n",
    "    Intent name creation is not allowed.\n",
    "    Entity name creation is not allowed. If the list of entities \n",
    "    is empty, you can't predict any entities. Just predict the intent.\n",
    "    You have to be really sure about the intent you are predicting, otherwise\n",
    "    you can respond with the following JSON object :\n",
    "        \"intent\"= \"Redirigir_BaseDeConocimiento\",\n",
    "        \"confidence\"= 0.7\n",
    " \n",
    "\n",
    "    Entities are always in the form of a list of dictionaries with this structure :\n",
    "    \"text\"= extracted text from user input,\"value\"= value extracted, \"name\"= name of the entity, \"confidence\"= confidence level of the prediction\n",
    "\n",
    "    Intent is always in the form of a dictionary with this structure=\n",
    "    \"name\"= name of the intent, \"confidence\"= confidence level of the prediction\n",
    "\n",
    "    Only respond with a valid JSON object and nothing else.\n",
    "    Your response must have this structure:\n",
    "        \"intent\"\n",
    "        \"entities\"\n",
    "    \"\"\",\n",
    ")\n",
    "\n",
    "\n",
    "async def classify_intent_extract_entities(user_input, intents, entities):\n",
    "\n",
    "    llm = OpenAI(temperature=0.9)\n",
    "    prompt = classify_intent_extract_entities_template.format(\n",
    "        user_input=user_input,\n",
    "        intents=intents,\n",
    "        entities=entities,\n",
    "    )\n",
    "    response = llm(prompt)\n",
    "    clean = \"{\" + response.split(\"{\", 1)[1]\n",
    "    clean = clean.replace(\"'\", '\"')\n",
    "    print(clean)\n",
    "    response = json.loads(clean)\n",
    "    return response\n"
   ]
  },
  {
   "cell_type": "code",
   "execution_count": 79,
   "id": "1c38df68",
   "metadata": {},
   "outputs": [],
   "source": [
    "user_input = \"hola tengo un Honda\""
   ]
  },
  {
   "cell_type": "code",
   "execution_count": 80,
   "id": "9dcc5105",
   "metadata": {},
   "outputs": [],
   "source": [
    "intents = [{\"name\":\"Saludar\", \"description\":\"\"}, {\"name\":\"Despedir\", \"description\": \"\"}]"
   ]
  },
  {
   "cell_type": "code",
   "execution_count": 84,
   "id": "d9efd3bd",
   "metadata": {},
   "outputs": [],
   "source": [
    "entities = [{\"name\":\"Marca_Auto\", \"description\":\"\"}]"
   ]
  },
  {
   "cell_type": "code",
   "execution_count": 85,
   "id": "b15ab76a",
   "metadata": {},
   "outputs": [],
   "source": [
    "personality = \"cool\""
   ]
  },
  {
   "cell_type": "code",
   "execution_count": 87,
   "id": "31582d89",
   "metadata": {},
   "outputs": [
    {
     "name": "stdout",
     "output_type": "stream",
     "text": [
      "{\n",
      "    \"intent\": {\n",
      "        \"name\": \"Saludar\",\n",
      "        \"confidence\": 0.9\n",
      "    },\n",
      "    \"entities\": [\n",
      "        {\n",
      "            \"text\": \"Honda\",\n",
      "            \"value\": \"Honda\",\n",
      "            \"name\": \"Marca_Auto\",\n",
      "            \"confidence\": 0.8\n",
      "        }\n",
      "    ]\n",
      "}\n"
     ]
    }
   ],
   "source": [
    "classified = await classify_intent_extract_entities(user_input, intents, entities)"
   ]
  },
  {
   "cell_type": "code",
   "execution_count": null,
   "id": "73cc3dd5",
   "metadata": {},
   "outputs": [],
   "source": []
  }
 ],
 "metadata": {
  "kernelspec": {
   "display_name": "Python 3 (ipykernel)",
   "language": "python",
   "name": "python3"
  },
  "language_info": {
   "codemirror_mode": {
    "name": "ipython",
    "version": 3
   },
   "file_extension": ".py",
   "mimetype": "text/x-python",
   "name": "python",
   "nbconvert_exporter": "python",
   "pygments_lexer": "ipython3",
   "version": "3.11.1"
  }
 },
 "nbformat": 4,
 "nbformat_minor": 5
}
