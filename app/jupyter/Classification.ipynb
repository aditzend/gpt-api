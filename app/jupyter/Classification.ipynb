{
 "cells": [
  {
   "cell_type": "code",
   "execution_count": 1,
   "id": "71f24622",
   "metadata": {},
   "outputs": [
    {
     "ename": "NameError",
     "evalue": "name 'os' is not defined",
     "output_type": "error",
     "traceback": [
      "\u001b[0;31m---------------------------------------------------------------------------\u001b[0m",
      "\u001b[0;31mNameError\u001b[0m                                 Traceback (most recent call last)",
      "Cell \u001b[0;32mIn[1], line 3\u001b[0m\n\u001b[1;32m      1\u001b[0m \u001b[38;5;28;01mfrom\u001b[39;00m \u001b[38;5;21;01mdotenv\u001b[39;00m \u001b[38;5;28;01mimport\u001b[39;00m load_dotenv\n\u001b[1;32m      2\u001b[0m load_dotenv()\n\u001b[0;32m----> 3\u001b[0m openai\u001b[38;5;241m.\u001b[39mapi_key \u001b[38;5;241m=\u001b[39m \u001b[43mos\u001b[49m\u001b[38;5;241m.\u001b[39mgetenv(\u001b[38;5;124m\"\u001b[39m\u001b[38;5;124mOPENAI_API_KEY\u001b[39m\u001b[38;5;124m\"\u001b[39m)\n\u001b[1;32m      4\u001b[0m sentiment_url \u001b[38;5;241m=\u001b[39m os\u001b[38;5;241m.\u001b[39mgetenv(\u001b[38;5;124m\"\u001b[39m\u001b[38;5;124mSENTIMENT_URL\u001b[39m\u001b[38;5;124m\"\u001b[39m)\n",
      "\u001b[0;31mNameError\u001b[0m: name 'os' is not defined"
     ]
    }
   ],
   "source": [
    "from dotenv import load_dotenv\n",
    "load_dotenv()\n",
    "openai.api_key = os.getenv(\"OPENAI_API_KEY\")\n",
    "sentiment_url = os.getenv(\"SENTIMENT_URL\")"
   ]
  },
  {
   "cell_type": "code",
   "execution_count": 7,
   "id": "8288ddca",
   "metadata": {},
   "outputs": [],
   "source": [
    "from langchain import PromptTemplate\n",
    "from langchain.llms import OpenAI\n",
    "import json\n",
    "\n",
    "classify_intent_extract_entities_template = PromptTemplate(\n",
    "    input_variables=[\"user_input\", \"intents\", \"entities\"],\n",
    "    template=\"\"\"\n",
    "    You are an intent and entity classification model.\n",
    "    Given this list of intents: {intents},\n",
    "    this list of entities {entities},\n",
    "    and this user input {user_input}, \n",
    "    predict the intent and entities of the user input.\n",
    "\n",
    "    Give the confidence level of each of your predictions. \n",
    "    Choose intents from the list of intents and only from the list of intents.\n",
    "    Choose entities from the list of entities and only from the list of entities.\n",
    "    Intent name creation is not allowed.\n",
    "    Entity name creation is not allowed. If the list of entities \n",
    "    is empty, you can't predict any entities. Just predict the intent.\n",
    "    You have to be really sure about the intent you are predicting, otherwise\n",
    "    you can respond with the following JSON object :\n",
    "        \"intent\"= \"Redirigir_BaseDeConocimiento\",\n",
    "        \"confidence\"= 0.7\n",
    " \n",
    "\n",
    "    Entities are always in the form of a list of dictionaries with this structure :\n",
    "    \"text\"= extracted text from user input,\"value\"= value extracted, \"name\"= name of the entity, \"confidence\"= confidence level of the prediction\n",
    "\n",
    "    Intent is always in the form of a dictionary with this structure=\n",
    "    \"name\"= name of the intent, \"confidence\"= confidence level of the prediction\n",
    "\n",
    "    Only respond with a valid JSON object and nothing else.\n",
    "    Your response must have this structure:\n",
    "        \"intent\"\n",
    "        \"entities\"\n",
    "    \"\"\",\n",
    ")\n",
    "\n",
    "\n",
    "async def classify_intent_extract_entities(user_input, intents, entities):\n",
    "\n",
    "    llm = OpenAI(temperature=0.0)\n",
    "    prompt = classify_intent_extract_entities_template.format(\n",
    "        user_input=user_input,\n",
    "        intents=intents,\n",
    "        entities=entities,\n",
    "    )\n",
    "    response = llm(prompt)\n",
    "    clean = \"{\" + response.split(\"{\", 1)[1]\n",
    "    clean = clean.replace(\"'\", '\"')\n",
    "    print(clean)\n",
    "    response = json.loads(clean)\n",
    "    return response\n"
   ]
  },
  {
   "cell_type": "code",
   "execution_count": 8,
   "id": "1c38df68",
   "metadata": {},
   "outputs": [],
   "source": [
    "user_input = \"quiero adoptar un perro\""
   ]
  },
  {
   "cell_type": "code",
   "execution_count": 9,
   "id": "9dcc5105",
   "metadata": {},
   "outputs": [],
   "source": [
    "intents = [{\"name\":\"Pregunta_Renovacion_Licencia\",\"description\":\"El usuario no sabe si debe realizar la renovación de su licencia o no\"},{\"name\":\"Informacion_MesMujer\",\"description\":\"Datos e información referida al mes de la mujer\"},{\"name\":\"Informacion_Robo_Licencia\",\"description\":\"Información de los pasos a seguir cuando se perdió o te robaron la licencia\"},{\"name\":\"Informacion_LicenciaConducir\",\"description\":\"Datos e información referida a la obtención y renovación de la licencia de conducir.\"},{\"name\":\"Informacion_Infracciones\",\"description\":\"Datos e información referida a infracciones de tránsito de motos, autos, y colectivos\"},{\"name\":\"Informacion_CorteLuz\",\"description\":\"Datos e información referida a los cortes de luz en capital federal\"},{\"name\":\"Iniciar_Otorgamiento_Licencia\",\"description\":\"Se desea realizar el trámite para sacar o renovar una licencia\"},{\"name\":\"jardin_botanico\",\"description\":\"jardin_botanico\"},{\"name\":\"Informacion_ViolenciaGenero\",\"description\":\"Datos e información referida a la violencia de género. Solicitudes de denuncias de violencia de género\"}]"
   ]
  },
  {
   "cell_type": "code",
   "execution_count": 10,
   "id": "d9efd3bd",
   "metadata": {},
   "outputs": [],
   "source": [
    "entities = [{\"name\":\"patente\",\"description\":\"la patente del auto con el formato 2 letras, 3 números y 2 letras. por ejemplo aa123aa\"},{\"name\":\"Documento\",\"description\":\"Numero de identificacion nacional de una persona fisica, tambien conocido como DNI. Debe ser un número\"},{\"name\":\"Edad\",\"description\":\"Edad de la persona\"},{\"name\":\"sexo\",\"description\":\"Condición orgánica que distingue a los hombres y mujeres. Indicado como M para masculino, F para femenino y X para no binarie\"}]"
   ]
  },
  {
   "cell_type": "code",
   "execution_count": 11,
   "id": "b15ab76a",
   "metadata": {},
   "outputs": [],
   "source": [
    "personality = \"cool\""
   ]
  },
  {
   "cell_type": "code",
   "execution_count": 12,
   "id": "31582d89",
   "metadata": {},
   "outputs": [
    {
     "name": "stdout",
     "output_type": "stream",
     "text": [
      "{\n",
      "        \"intent\": {\n",
      "            \"name\": \"Redirigir_BaseDeConocimiento\",\n",
      "            \"confidence\": 0.7\n",
      "        },\n",
      "        \"entities\": []\n",
      "    }\n",
      "}\n"
     ]
    },
    {
     "ename": "JSONDecodeError",
     "evalue": "Extra data: line 8 column 1 (char 144)",
     "output_type": "error",
     "traceback": [
      "\u001b[0;31m---------------------------------------------------------------------------\u001b[0m",
      "\u001b[0;31mJSONDecodeError\u001b[0m                           Traceback (most recent call last)",
      "Cell \u001b[0;32mIn[12], line 1\u001b[0m\n\u001b[0;32m----> 1\u001b[0m classified \u001b[38;5;241m=\u001b[39m \u001b[38;5;28;01mawait\u001b[39;00m classify_intent_extract_entities(user_input, intents, entities)\n",
      "Cell \u001b[0;32mIn[7], line 52\u001b[0m, in \u001b[0;36mclassify_intent_extract_entities\u001b[0;34m(user_input, intents, entities)\u001b[0m\n\u001b[1;32m     50\u001b[0m clean \u001b[38;5;241m=\u001b[39m clean\u001b[38;5;241m.\u001b[39mreplace(\u001b[38;5;124m\"\u001b[39m\u001b[38;5;124m'\u001b[39m\u001b[38;5;124m\"\u001b[39m, \u001b[38;5;124m'\u001b[39m\u001b[38;5;124m\"\u001b[39m\u001b[38;5;124m'\u001b[39m)\n\u001b[1;32m     51\u001b[0m \u001b[38;5;28mprint\u001b[39m(clean)\n\u001b[0;32m---> 52\u001b[0m response \u001b[38;5;241m=\u001b[39m \u001b[43mjson\u001b[49m\u001b[38;5;241;43m.\u001b[39;49m\u001b[43mloads\u001b[49m\u001b[43m(\u001b[49m\u001b[43mclean\u001b[49m\u001b[43m)\u001b[49m\n\u001b[1;32m     53\u001b[0m \u001b[38;5;28;01mreturn\u001b[39;00m response\n",
      "File \u001b[0;32m~/.pyenv/versions/3.9.9/lib/python3.9/json/__init__.py:346\u001b[0m, in \u001b[0;36mloads\u001b[0;34m(s, cls, object_hook, parse_float, parse_int, parse_constant, object_pairs_hook, **kw)\u001b[0m\n\u001b[1;32m    341\u001b[0m     s \u001b[38;5;241m=\u001b[39m s\u001b[38;5;241m.\u001b[39mdecode(detect_encoding(s), \u001b[38;5;124m'\u001b[39m\u001b[38;5;124msurrogatepass\u001b[39m\u001b[38;5;124m'\u001b[39m)\n\u001b[1;32m    343\u001b[0m \u001b[38;5;28;01mif\u001b[39;00m (\u001b[38;5;28mcls\u001b[39m \u001b[38;5;129;01mis\u001b[39;00m \u001b[38;5;28;01mNone\u001b[39;00m \u001b[38;5;129;01mand\u001b[39;00m object_hook \u001b[38;5;129;01mis\u001b[39;00m \u001b[38;5;28;01mNone\u001b[39;00m \u001b[38;5;129;01mand\u001b[39;00m\n\u001b[1;32m    344\u001b[0m         parse_int \u001b[38;5;129;01mis\u001b[39;00m \u001b[38;5;28;01mNone\u001b[39;00m \u001b[38;5;129;01mand\u001b[39;00m parse_float \u001b[38;5;129;01mis\u001b[39;00m \u001b[38;5;28;01mNone\u001b[39;00m \u001b[38;5;129;01mand\u001b[39;00m\n\u001b[1;32m    345\u001b[0m         parse_constant \u001b[38;5;129;01mis\u001b[39;00m \u001b[38;5;28;01mNone\u001b[39;00m \u001b[38;5;129;01mand\u001b[39;00m object_pairs_hook \u001b[38;5;129;01mis\u001b[39;00m \u001b[38;5;28;01mNone\u001b[39;00m \u001b[38;5;129;01mand\u001b[39;00m \u001b[38;5;129;01mnot\u001b[39;00m kw):\n\u001b[0;32m--> 346\u001b[0m     \u001b[38;5;28;01mreturn\u001b[39;00m \u001b[43m_default_decoder\u001b[49m\u001b[38;5;241;43m.\u001b[39;49m\u001b[43mdecode\u001b[49m\u001b[43m(\u001b[49m\u001b[43ms\u001b[49m\u001b[43m)\u001b[49m\n\u001b[1;32m    347\u001b[0m \u001b[38;5;28;01mif\u001b[39;00m \u001b[38;5;28mcls\u001b[39m \u001b[38;5;129;01mis\u001b[39;00m \u001b[38;5;28;01mNone\u001b[39;00m:\n\u001b[1;32m    348\u001b[0m     \u001b[38;5;28mcls\u001b[39m \u001b[38;5;241m=\u001b[39m JSONDecoder\n",
      "File \u001b[0;32m~/.pyenv/versions/3.9.9/lib/python3.9/json/decoder.py:340\u001b[0m, in \u001b[0;36mJSONDecoder.decode\u001b[0;34m(self, s, _w)\u001b[0m\n\u001b[1;32m    338\u001b[0m end \u001b[38;5;241m=\u001b[39m _w(s, end)\u001b[38;5;241m.\u001b[39mend()\n\u001b[1;32m    339\u001b[0m \u001b[38;5;28;01mif\u001b[39;00m end \u001b[38;5;241m!=\u001b[39m \u001b[38;5;28mlen\u001b[39m(s):\n\u001b[0;32m--> 340\u001b[0m     \u001b[38;5;28;01mraise\u001b[39;00m JSONDecodeError(\u001b[38;5;124m\"\u001b[39m\u001b[38;5;124mExtra data\u001b[39m\u001b[38;5;124m\"\u001b[39m, s, end)\n\u001b[1;32m    341\u001b[0m \u001b[38;5;28;01mreturn\u001b[39;00m obj\n",
      "\u001b[0;31mJSONDecodeError\u001b[0m: Extra data: line 8 column 1 (char 144)"
     ]
    }
   ],
   "source": [
    "classified = await classify_intent_extract_entities(user_input, intents, entities)"
   ]
  },
  {
   "cell_type": "code",
   "execution_count": null,
   "id": "73cc3dd5",
   "metadata": {},
   "outputs": [],
   "source": []
  }
 ],
 "metadata": {
  "kernelspec": {
   "display_name": "Python 3 (ipykernel)",
   "language": "python",
   "name": "python3"
  },
  "language_info": {
   "codemirror_mode": {
    "name": "ipython",
    "version": 3
   },
   "file_extension": ".py",
   "mimetype": "text/x-python",
   "name": "python",
   "nbconvert_exporter": "python",
   "pygments_lexer": "ipython3",
   "version": "3.9.9"
  }
 },
 "nbformat": 4,
 "nbformat_minor": 5
}
