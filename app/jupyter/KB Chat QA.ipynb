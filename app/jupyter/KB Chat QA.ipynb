{
 "cells": [
  {
   "cell_type": "code",
   "execution_count": 46,
   "id": "d8953b47",
   "metadata": {},
   "outputs": [
    {
     "data": {
      "text/plain": [
       "True"
      ]
     },
     "execution_count": 46,
     "metadata": {},
     "output_type": "execute_result"
    }
   ],
   "source": [
    "from dotenv import load_dotenv\n",
    "load_dotenv()\n"
   ]
  },
  {
   "cell_type": "code",
   "execution_count": 47,
   "id": "729aeba6",
   "metadata": {},
   "outputs": [],
   "source": [
    "from langchain.embeddings.openai import OpenAIEmbeddings\n",
    "from langchain.vectorstores import Chroma\n",
    "from langchain.text_splitter import CharacterTextSplitter\n",
    "from langchain.llms import OpenAI\n",
    "from langchain.chains import RetrievalQA, ChatVectorDBChain\n"
   ]
  },
  {
   "cell_type": "code",
   "execution_count": 48,
   "id": "9767f1a7",
   "metadata": {},
   "outputs": [],
   "source": [
    "from langchain.document_loaders import TextLoader, WebBaseLoader\n",
    "\n",
    "jardin = WebBaseLoader(\"https://buenosaires.gob.ar/jardin-botanico\")\n",
    "carnaval = TextLoader(\"/Users/alexander/carnaval.txt\")\n",
    "\n",
    "\n"
   ]
  },
  {
   "cell_type": "code",
   "execution_count": 49,
   "id": "4f280e43",
   "metadata": {},
   "outputs": [],
   "source": [
    "jardin_doc = jardin.load()"
   ]
  },
  {
   "cell_type": "code",
   "execution_count": 50,
   "id": "8b21b4db",
   "metadata": {},
   "outputs": [],
   "source": [
    "carnaval_doc = carnaval.load()"
   ]
  },
  {
   "cell_type": "code",
   "execution_count": 51,
   "id": "f5350cc0",
   "metadata": {},
   "outputs": [],
   "source": [
    "documents = jardin_doc + carnaval_doc"
   ]
  },
  {
   "cell_type": "code",
   "execution_count": 52,
   "id": "9f159448",
   "metadata": {},
   "outputs": [
    {
     "data": {
      "text/plain": [
       "[Document(page_content='\\n\\n\\n\\n\\n\\n\\n\\n\\n\\n\\n\\n\\n\\nJardín Botánico | Buenos Aires Ciudad - Gobierno de la Ciudad Autónoma de Buenos Aires\\n\\n\\n\\n\\n\\n\\n\\n\\n\\n\\n\\n\\n\\n      Pasar al contenido principal\\n    \\n\\n\\n\\n\\n\\n\\n\\n\\n\\n\\n\\n\\n\\nInicio\\n\\n\\n\\n\\n\\n\\n\\n\\n\\n\\n\\n\\n\\n\\n\\n\\n\\n\\n\\n\\n\\n\\n\\n\\n\\n\\n\\n\\n\\n\\n\\n\\n\\n\\n\\n\\n\\n\\n\\n\\n\\n\\nBuenos Aires\\n\\n\\n\\n\\n\\n\\n\\nJardín Botánico \\n\\n\\n\\n\\nLas más diversas especies vegetales crecen y se reproducen en uno de los jardines más importantes de Buenos Aires\\n\\n\\n\\n\\n\\n\\n\\nInstitucional\\n\\n\\nQuiénes somos\\n\\n\\nInformación General\\n\\n\\n\\n\\nHistoria\\n\\n\\nLos jardines botánicos y de aclimatación\\n\\n\\nBiografía Julio Carlos Thays\\n\\n\\nMaestros de la Botánica\\n\\n\\nUn edificio con historia\\n\\n\\n\\n\\nMapa\\n\\n\\n\\n\\n\\n\\n\\n\\n\\n\\n\\n\\n\\n\\n\\n\\n\\n      Mujeres en la Botánica\\n    \\n\\n\\n\\n\\n\\n\\n      El cambio climático ya sucede\\n    \\n\\n\\n\\n\\n\\n\\n      Los suelos secos toman menos agua\\n    \\n\\n\\n\\n\\n\\n\\n\\n\\n\\n\\n\\n\\n\\n\\n\\n\\nattractions\\nActividades\\n\\n      Informate sobre los talleres y visitas que podés realizar\\r\\n\\n    \\n\\n\\n\\n\\n\\n\\n\\nColecciones\\n\\n      Ingresá para ver las más de 1000 especies que tenemos\\r\\n\\n    \\n\\n\\n\\n\\n\\nProyectos de investigación\\n\\n      Conocé los estudios que venimos realizando\\r\\n\\n    \\n\\n\\n\\n\\n\\nRecorré el Jardín\\n\\n      Conocé nuestras obras y senderos\\r\\n\\n    \\n\\n\\n\\n\\n\\n\\n\\n\\n\\n\\n\\n\\n\\nJardín de mariposas\\n\\n               Visitá un lugar inesperado: mariposas alimentándose y\\n               reproduciéndose a cielo abierto gracias a las plantas\\n               que las nutren y les dan abrigo.\\n           \\n\\n\\n\\n\\n\\nAves\\n\\n               No puede haber un jardín sin aves: ayudan con la polinización y producción de plantas.\\n               Brindan su canto y su belleza a diario. Las aves y las plantas siempre trabajan a la par, descubrilas.\\n           \\n\\n\\n\\n\\n\\nCactus\\n\\n               Espinas y flores en una de las colecciones más valiosas del jardín.\\n               Los cactus son endémicos de nuestro continente y son especies CITES de máximo resguardo. Vení a conocerlos.\\n           \\n\\n\\n\\n\\n\\nHongos\\n\\n               Mirá con atención y descubrilos. Los hongos son un\\n               grupo de seres únicos que hasta tienen su propio reino: el Fungi.\\n               Casi todas las plantas los necesitan en alguna forma de asociación.\\n           \\n\\n\\n\\n\\n\\nPalmeras\\n\\n               Son plantas especiales, bellas y útiles. En el Jardín hay una colección de más de\\n               40 especies de todo el mundo que sirven para adorno, para comer, para tejer y\\n               para hacer techos. Conocelas.\\n           \\n\\n\\n\\n\\n\\nEl bosque\\n\\n               Conocé uno de los sumideros de carbono en la ciudad:\\n               el bosque del Jardín. Troncos, ramas, hojas y raíces que limpian el aire y te dan vida.\\n           \\n\\n\\n\\n\\n\\n\\n\\n\\n\\n\\n\\n\\n\\n\\n\\n\\n\\n\\n\\n\\n\\n\\n\\n\\nDesde el 22/9 al 21/3:\\nMartes a viernes, de 8 a 19 h. (ingreso hasta 18:30 h.)\\n\\tSábados, domingos y feriados, de 9:30 a 19 h. (ingreso hasta 18:30 h.)\\nDesde el 22/3 al 21/9:\\nMartes a viernes, de 8 a 18 h. (ingreso hasta 17:30 h.\\n\\tSábados, domingos y feriados, de 9:30 a 18 h. (ingreso hasta 17:30 h.)\\nEntrada gratuita.\\nVer el mapa Cómo llego\\n\\n\\n\\n\\n\\n\\n\\n\\n\\n\\n Los días 1° de enero, Viernes Santo, 1° de mayo, 21 de septiembre, Día del Municipal y 25 de diciembre el Jardín permanecerá cerrado.\\nEn los días de inclemencias climáticas (vientos intensos, lluvias, lloviznas persistentes) el Jardín permanecerá cerrado por razones de seguridad. Sepa disculpar los inconvenientes que esto pueda producirle.\\n\\n\\n\\n\\n\\n\\n\\n\\n\\n\\n\\n\\n\\n\\n\\n\\n\\nTeléfonos útiles\\n\\n\\n102 - Niñez y Adolescencia\\n\\n\\n103 - Emergencias\\n\\n107 - SAME\\n911 - Policía\\n\\n144 - Violencia de género\\n\\n\\n147 - Atención ciudadana\\n\\n\\nVer todos los teléfonos\\n\\n\\nRedes de la ciudad\\n\\n\\n\\nFacebook\\n                \\n\\n\\n\\nInstagram\\n                \\n\\n\\n\\nTwitter\\n                \\n\\n\\n\\nYouTube\\n                \\n\\n\\n\\nLinkedIn\\n                \\n\\n\\n\\n\\n\\n\\n\\n\\n\\n\\n\\n\\n\\n\\n\\n\\nBoletín oficial\\n\\n\\nTérminos y\\n                      condiciones\\n\\n\\nPolítica de privacidad\\n\\n\\nOficios Judiciales\\n\\n\\n\\n\\n\\n\\n\\n              Los contenidos de buenosaires.gob.ar están licenciados bajo\\n              \\n              Creative Commons Reconocimiento 2.5 Argentina License.\\n            \\n\\n\\n\\n\\n\\n\\n\\n\\n\\n\\n\\n\\n\\n\\n\\n\\n\\n\\n\\n\\n\\n', lookup_str='', metadata={'source': 'https://buenosaires.gob.ar/jardin-botanico'}, lookup_index=0),\n",
       " Document(page_content='Comienza una nueva edición del Carnaval Porteño en la que la Ciudad se vestirá de fiesta para \\nmantener viva la tradición de un festejo que contará con presentaciones de agrupaciones \\nmurgueras en vivo.\\nDurante todos los fines de semana de febrero (los sábados, el domingo 19 y lunes 20 en el \\nhorario de 19 a 02 h., y domingos de 19 a 00 h.) vecinos y vecinas podrán asistir a \\t\\nespectáculos murgueros de música y baile que serán realizados de manera descentralizada en 33 \\nlocaciones elegidas en diálogo con la comunidad carnavalera.\\nTendremos dos tipos de corsos, los emblemáticos y los normales. Los corsos emblemáticos son \\nBoedo 1 y 2, Villa Puerredon, Flores, Mataderos, Saavedra, Villa Urquiza, Puente Saavedra, La \\nBoca, Villa Crespo y Villa Devoto. Tambien tendremos los normales, que son un poco mas \\npequeños, en Paternal y Agronomía.\\n\\nSi queres conocer los datos de cada corso, a continuación te listamos los corsos y sus \\ndirecciones para que puedas elegir a cual quieras ir. Recorda que puede haber cortes de calles, \\npor lo que nos podes consultar cuando y donde habrá cortes:\\nCorsos emblemáticos\\nBoedo 1\\nfecha: 4-5-11-12-18-19-20 de febrero\\nDirección: Av. Boedo E/ Av. Independencia y Av. San Juan\\nBoedo 2 \\nfecha: 4-5-11-12 de febrero\\nDirección: Av. Belgrano E/ Colombres y Maza\\nFlores \\nFecha:4-5-11-12-18-19-20 de febrero\\nDireccion: Seguí E/ Neuquén y  Av. Gaona\\nMataderos \\nFecha: 4-5-11-12-18-19-20 de febrero\\nDireccion: Av. Alberdi E/ Escalada y Araujo\\nV. Pueyrredón:\\nFecha: 4-5-11-12-18-19-20 de febrero\\nDireccion: Av. Mosconi E/ Bolivia y Terrada\\nSaavedra:\\nFecha: 4-5-11-12-18-19-20 de febrero\\nDireccion: Av. Balbín E/ Correa y Arias\\nVilla Urquiza:\\nFecha: 4-5-11-12-18-19-20 de febrero\\nDireccion: Av. Triunvirato E/ Monroe y Olazábal\\nP. Saavedra:\\nFecha: 4-5-11-12-18-19-20 de febrero\\nDireccion: Av. García del Río E/ Freire y Zapiola\\nVilla Crespo: \\nFecha: 11-12-18-19-20 de febrero). Av. Corrientes E/ Scalabrini Ortíz y Julián Álvarez\\nLa Boca:\\nFecha: 11-12-18-19-20-25-26 de febrero\\nDireccion: Av Patricios E/Iriarte y Pedro de Mendoza\\nVilla Devoto:\\nFecha: 11-12-18-19-20-25-26 de febrero\\nDireccion: Plaza Riccheri (Av. F. Beiró, Desaguadero, J. P Varela, Quevedo) \\nCorsos normales\\nPaternal 1:\\nFecha: 4-5 de febrero\\nDireccion: Plaza Roque Sáenz Peña (Av. Juan B Justo, Av. Boyacá, Remedios de E. de S. Martín, \\nAndrés Lamas)\\nAgronomía:\\nFecha: 4-5 de febrero\\nDireccion: Navarro E/ Bolivia y Artigas\\n \\nCortes de Calles por los corsos: Si queres saber sobre los cortes de calles, te listamos a \\ncontinuación todos los cortes que habrá dia por dia:\\nEn Boedo 1 habrá cortes de calles en Av. Boedo entre Av. Independencia y Av. San Juan, Estados \\nUnidos y Colombres y Carlos Calvo y Maza, los días Sábado 4, 11, 18  de Febrero, de 14.00 a \\n04.00 hs , Domingo 5 y 12 de Febrero, de 14.00 a 02.00 hs, , Domingo 19 de Febrero, de 14.00 a \\n04.00 hs y finalizando el Lunes 20 de Febrero, de 14.00 a 04.00 hs.\\nEn Boedo 2 habrá cortes de calles en Av. Belgrano entre Colombres y Maza, Av. Boedo y Moreno, \\nlos días Sábado 4 y 11 de Febrero de 14.00 a 04.00 hs y Domingo 5 y 12 de Febrero de 14.00 a \\n02.00 h\\n', lookup_str='', metadata={'source': '/Users/alexander/carnaval.txt'}, lookup_index=0)]"
      ]
     },
     "execution_count": 52,
     "metadata": {},
     "output_type": "execute_result"
    }
   ],
   "source": [
    "documents"
   ]
  },
  {
   "cell_type": "code",
   "execution_count": 53,
   "id": "bb36425e",
   "metadata": {},
   "outputs": [
    {
     "name": "stdout",
     "output_type": "stream",
     "text": [
      "Running Chroma using direct local API.\n",
      "Using DuckDB in-memory for database. Data will be transient.\n"
     ]
    }
   ],
   "source": [
    "text_splitter = CharacterTextSplitter(chunk_size=1000, chunk_overlap=0)\n",
    "texts = text_splitter.split_documents(documents)\n",
    "\n",
    "embeddings = OpenAIEmbeddings()\n",
    "docsearch = Chroma.from_documents(texts, embeddings)"
   ]
  },
  {
   "cell_type": "code",
   "execution_count": 54,
   "id": "d327c463",
   "metadata": {},
   "outputs": [],
   "source": [
    "qa = ChatVectorDBChain.from_llm(llm=OpenAI(temperature=0),vectorstore=docsearch,return_source_documents=False)\n",
    "\n"
   ]
  },
  {
   "cell_type": "code",
   "execution_count": 55,
   "id": "38c2389b",
   "metadata": {},
   "outputs": [],
   "source": [
    "vectordbkwargs = {\"search_distance\": 0.9}"
   ]
  },
  {
   "cell_type": "code",
   "execution_count": 58,
   "id": "5f15180e",
   "metadata": {},
   "outputs": [],
   "source": [
    "chat_history = []\n",
    "query = \"a que hora son los corsos?\"\n",
    "result = qa({\"question\": query, \"chat_history\": chat_history, \"vectordbkwargs\": vectordbkwargs})\n",
    "\n"
   ]
  },
  {
   "cell_type": "code",
   "execution_count": 59,
   "id": "cca20601",
   "metadata": {},
   "outputs": [
    {
     "data": {
      "text/plain": [
       "{'question': 'a que hora son los corsos?',\n",
       " 'chat_history': [],\n",
       " 'vectordbkwargs': {'search_distance': 0.9},\n",
       " 'answer': ' Los corsos se realizan en los fines de semana de febrero, los sábados, el domingo 19 y lunes 20 en el horario de 19 a 02 h., y domingos de 19 a 00 h.'}"
      ]
     },
     "execution_count": 59,
     "metadata": {},
     "output_type": "execute_result"
    }
   ],
   "source": [
    "result"
   ]
  },
  {
   "cell_type": "code",
   "execution_count": 60,
   "id": "d0423e49",
   "metadata": {},
   "outputs": [],
   "source": [
    "chat_history = [(query, result[\"answer\"])]\n",
    "query = \"y donde son?\"\n",
    "result = qa({\"question\": query, \"chat_history\": chat_history, \"vectordbkwargs\": vectordbkwargs})\n"
   ]
  },
  {
   "cell_type": "code",
   "execution_count": 61,
   "id": "c904a94e",
   "metadata": {},
   "outputs": [
    {
     "data": {
      "text/plain": [
       "' Los corsos se realizan en 33 locaciones elegidas en diálogo con la comunidad carnavalera. Estos incluyen los corsos emblemáticos Boedo 1 y 2, Villa Puerredon, Flores, Mataderos, Saavedra, Villa Urquiza, Puente Saavedra, La Boca, Villa Crespo y Villa Devoto, así como los corsos normales Paternal 1 y Agronomía.'"
      ]
     },
     "execution_count": 61,
     "metadata": {},
     "output_type": "execute_result"
    }
   ],
   "source": [
    "result['answer']"
   ]
  },
  {
   "cell_type": "code",
   "execution_count": 63,
   "id": "3b56e0d4",
   "metadata": {},
   "outputs": [],
   "source": [
    "chat_history = [(query, result[\"answer\"])]\n",
    "query = \"en boedo hay alguno?\"\n",
    "result = qa({\"question\": query, \"chat_history\": chat_history, \"vectordbkwargs\": vectordbkwargs})\n"
   ]
  },
  {
   "cell_type": "code",
   "execution_count": 64,
   "id": "a2ba87c4",
   "metadata": {},
   "outputs": [
    {
     "data": {
      "text/plain": [
       "[('y donde son?',\n",
       "  ' Los corsos se realizan en 33 locaciones elegidas en diálogo con la comunidad carnavalera. Estos incluyen los corsos emblemáticos Boedo 1 y 2, Villa Puerredon, Flores, Mataderos, Saavedra, Villa Urquiza, Puente Saavedra, La Boca, Villa Crespo y Villa Devoto, así como los corsos normales Paternal 1 y Agronomía.')]"
      ]
     },
     "execution_count": 64,
     "metadata": {},
     "output_type": "execute_result"
    }
   ],
   "source": [
    "chat_history"
   ]
  },
  {
   "cell_type": "code",
   "execution_count": 65,
   "id": "d82c4a2b",
   "metadata": {},
   "outputs": [
    {
     "data": {
      "text/plain": [
       "' Sí, hay dos corsos en Boedo. Boedo 1 tendrá lugar los días 4, 11, 18, 19 y 20 de febrero, y Boedo 2 tendrá lugar los días 4, 5, 11 y 12 de febrero.'"
      ]
     },
     "execution_count": 65,
     "metadata": {},
     "output_type": "execute_result"
    }
   ],
   "source": [
    "result['answer']"
   ]
  },
  {
   "cell_type": "code",
   "execution_count": null,
   "id": "a3d9caeb",
   "metadata": {},
   "outputs": [],
   "source": []
  }
 ],
 "metadata": {
  "kernelspec": {
   "display_name": "Python 3 (ipykernel)",
   "language": "python",
   "name": "python3"
  },
  "language_info": {
   "codemirror_mode": {
    "name": "ipython",
    "version": 3
   },
   "file_extension": ".py",
   "mimetype": "text/x-python",
   "name": "python",
   "nbconvert_exporter": "python",
   "pygments_lexer": "ipython3",
   "version": "3.9.9"
  }
 },
 "nbformat": 4,
 "nbformat_minor": 5
}
