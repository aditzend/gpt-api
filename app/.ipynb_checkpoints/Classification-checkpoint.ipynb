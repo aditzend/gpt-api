{
 "cells": [
  {
   "cell_type": "code",
   "execution_count": 24,
   "id": "fcc4e833",
   "metadata": {},
   "outputs": [],
   "source": [
    "from langchain.prompts import load_prompt\n",
    "from langchain.llms import OpenAI\n",
    "import openai\n",
    "\n",
    "import json\n",
    "import os"
   ]
  },
  {
   "cell_type": "code",
   "execution_count": 25,
   "id": "71f24622",
   "metadata": {},
   "outputs": [],
   "source": [
    "from dotenv import load_dotenv\n",
    "load_dotenv()\n",
    "openai.api_key = os.getenv(\"OPENAI_API_KEY\")\n",
    "sentiment_url = os.getenv(\"SENTIMENT_URL\")"
   ]
  },
  {
   "cell_type": "code",
   "execution_count": 26,
   "id": "8288ddca",
   "metadata": {},
   "outputs": [],
   "source": [
    "async def classify_intent_extract_entities(\n",
    "    user_input, intents, entities, personality\n",
    "):\n",
    "    llm = OpenAI(temperature=0.9)\n",
    "    classifier = os.path.join(\n",
    "        os.path.dirname(__file__), \"prompts/classifier.yaml\"\n",
    "    )\n",
    "    prompt = load_prompt(classifier)\n",
    "    hydrated = prompt.format(\n",
    "        user_input=user_input,\n",
    "        intents=intents,\n",
    "        entities=entities,\n",
    "        personality=personality,\n",
    "    )\n",
    "    response = llm(hydrated)\n",
    "    clean = \"{\" + response.split(\"{\", 1)[1]\n",
    "    clean = clean.replace(\"'\", '\"')\n",
    "    print(clean)\n",
    "    response = json.loads(clean)\n",
    "    return response"
   ]
  },
  {
   "cell_type": "code",
   "execution_count": 27,
   "id": "1c38df68",
   "metadata": {},
   "outputs": [],
   "source": [
    "user_input = \"hola\""
   ]
  },
  {
   "cell_type": "code",
   "execution_count": 28,
   "id": "9dcc5105",
   "metadata": {},
   "outputs": [],
   "source": [
    "intents = [{\"name\":\"Saludar\", \"description\":\"\"}, {\"name\":\"Despedir\", \"description\": \"\"}]"
   ]
  },
  {
   "cell_type": "code",
   "execution_count": 29,
   "id": "d9efd3bd",
   "metadata": {},
   "outputs": [],
   "source": [
    "entities = \"\""
   ]
  },
  {
   "cell_type": "code",
   "execution_count": 30,
   "id": "b15ab76a",
   "metadata": {},
   "outputs": [],
   "source": [
    "personality = \"cool\""
   ]
  },
  {
   "cell_type": "code",
   "execution_count": 31,
   "id": "31582d89",
   "metadata": {},
   "outputs": [
    {
     "ename": "NameError",
     "evalue": "name '__file__' is not defined",
     "output_type": "error",
     "traceback": [
      "\u001b[0;31m---------------------------------------------------------------------------\u001b[0m",
      "\u001b[0;31mNameError\u001b[0m                                 Traceback (most recent call last)",
      "Cell \u001b[0;32mIn[31], line 1\u001b[0m\n\u001b[0;32m----> 1\u001b[0m classified \u001b[38;5;241m=\u001b[39m \u001b[38;5;28;01mawait\u001b[39;00m classify_intent_extract_entities(user_input, intents, entities, personality)\n",
      "Cell \u001b[0;32mIn[26], line 6\u001b[0m, in \u001b[0;36mclassify_intent_extract_entities\u001b[0;34m(user_input, intents, entities, personality)\u001b[0m\n\u001b[1;32m      1\u001b[0m \u001b[38;5;28;01masync\u001b[39;00m \u001b[38;5;28;01mdef\u001b[39;00m \u001b[38;5;21mclassify_intent_extract_entities\u001b[39m(\n\u001b[1;32m      2\u001b[0m     user_input, intents, entities, personality\n\u001b[1;32m      3\u001b[0m ):\n\u001b[1;32m      4\u001b[0m     llm \u001b[38;5;241m=\u001b[39m OpenAI(temperature\u001b[38;5;241m=\u001b[39m\u001b[38;5;241m0.9\u001b[39m)\n\u001b[1;32m      5\u001b[0m     classifier \u001b[38;5;241m=\u001b[39m os\u001b[38;5;241m.\u001b[39mpath\u001b[38;5;241m.\u001b[39mjoin(\n\u001b[0;32m----> 6\u001b[0m         os\u001b[38;5;241m.\u001b[39mpath\u001b[38;5;241m.\u001b[39mdirname(\u001b[38;5;18;43m__file__\u001b[39;49m), \u001b[38;5;124m\"\u001b[39m\u001b[38;5;124mprompts/classifier.yaml\u001b[39m\u001b[38;5;124m\"\u001b[39m\n\u001b[1;32m      7\u001b[0m     )\n\u001b[1;32m      8\u001b[0m     prompt \u001b[38;5;241m=\u001b[39m load_prompt(classifier)\n\u001b[1;32m      9\u001b[0m     hydrated \u001b[38;5;241m=\u001b[39m prompt\u001b[38;5;241m.\u001b[39mformat(\n\u001b[1;32m     10\u001b[0m         user_input\u001b[38;5;241m=\u001b[39muser_input,\n\u001b[1;32m     11\u001b[0m         intents\u001b[38;5;241m=\u001b[39mintents,\n\u001b[1;32m     12\u001b[0m         entities\u001b[38;5;241m=\u001b[39mentities,\n\u001b[1;32m     13\u001b[0m         personality\u001b[38;5;241m=\u001b[39mpersonality,\n\u001b[1;32m     14\u001b[0m     )\n",
      "\u001b[0;31mNameError\u001b[0m: name '__file__' is not defined"
     ]
    }
   ],
   "source": [
    "classified = await classify_intent_extract_entities(user_input, intents, entities, personality)"
   ]
  },
  {
   "cell_type": "code",
   "execution_count": 17,
   "id": "006ec362",
   "metadata": {},
   "outputs": [
    {
     "name": "stdout",
     "output_type": "stream",
     "text": [
      "<coroutine object classify_intent_extract_entities at 0x108661cc0>\n"
     ]
    }
   ],
   "source": [
    "print(classified)"
   ]
  },
  {
   "cell_type": "code",
   "execution_count": null,
   "id": "73cc3dd5",
   "metadata": {},
   "outputs": [],
   "source": []
  }
 ],
 "metadata": {
  "kernelspec": {
   "display_name": "Python 3 (ipykernel)",
   "language": "python",
   "name": "python3"
  },
  "language_info": {
   "codemirror_mode": {
    "name": "ipython",
    "version": 3
   },
   "file_extension": ".py",
   "mimetype": "text/x-python",
   "name": "python",
   "nbconvert_exporter": "python",
   "pygments_lexer": "ipython3",
   "version": "3.11.1"
  }
 },
 "nbformat": 4,
 "nbformat_minor": 5
}
